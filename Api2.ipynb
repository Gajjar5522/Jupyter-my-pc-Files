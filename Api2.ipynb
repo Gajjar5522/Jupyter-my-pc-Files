{
 "cells": [
  {
   "cell_type": "code",
   "execution_count": 5,
   "metadata": {},
   "outputs": [],
   "source": [
    "import pygal\n",
    "from pygal.style import LightColorizedStyle as LCS, LightenStyle as LS\n",
    "\n",
    "my_style=LS('#333366', base_style=LCS)\n",
    "chart=pygal.Bar(style=my_style, x_label_rotation=45, show_legend=False)\n",
    "\n",
    "chart.title='Pyton BAr'\n",
    "chart.x_labels=['httpie','django','flask']\n",
    "\n",
    "plotd=[{'value':16101,'label': 'http://www.allitebooks.org/'},\n",
    "       {'value':15028,'label': 'Descreption of Django'},\n",
    "       {'value':14798,'label':'Descreption of flask'}]\n",
    "chart.add('',plotd)\n",
    "chart.render_to_file('bar file iage.svg')"
   ]
  },
  {
   "cell_type": "code",
   "execution_count": null,
   "metadata": {},
   "outputs": [],
   "source": []
  }
 ],
 "metadata": {
  "kernelspec": {
   "display_name": "Python 3",
   "language": "python",
   "name": "python3"
  },
  "language_info": {
   "codemirror_mode": {
    "name": "ipython",
    "version": 3
   },
   "file_extension": ".py",
   "mimetype": "text/x-python",
   "name": "python",
   "nbconvert_exporter": "python",
   "pygments_lexer": "ipython3",
   "version": "3.7.7"
  }
 },
 "nbformat": 4,
 "nbformat_minor": 4
}
