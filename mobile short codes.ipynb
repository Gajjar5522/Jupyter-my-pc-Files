{
 "cells": [
  {
   "cell_type": "code",
   "execution_count": 1,
   "metadata": {},
   "outputs": [],
   "source": [
    "##### is the no is negetive or positive\n",
    "\n",
    "# while 1:\n",
    "#     n=int(input('enter num:'))\n",
    "#     if n<0:\n",
    "#         print('-')\n",
    "#         continue\n",
    "#     elif n>0:\n",
    "#         print('+')\n",
    "#         continue\n",
    "#     else:\n",
    "#         print('number is 0')\n",
    "#         continue"
   ]
  },
  {
   "cell_type": "code",
   "execution_count": 2,
   "metadata": {},
   "outputs": [],
   "source": [
    "# number is even or odd\n",
    "# while 1:\n",
    "#     n=int(input('enter num:'))\n",
    "    \n",
    "#     if n%2==0:\n",
    "#         print('even')\n",
    "        \n",
    "#     else:\n",
    "#         print('odd')\n",
    "        \n",
    "    "
   ]
  },
  {
   "cell_type": "code",
   "execution_count": 3,
   "metadata": {},
   "outputs": [],
   "source": [
    "# ditermine the meximum integer of three input\n",
    "# a=int(input('enter num:'))\n",
    "# b=int(input('enter num:'))\n",
    "# c=int(input('enter num:'))\n",
    "\n",
    "# if a<=b and b<=c:\n",
    "#     print('c')\n",
    "# elif b>=a and b>=c:\n",
    "#     print('b')\n",
    "# else:\n",
    "# #     c=<a and b=<a:\n",
    "#     print('a')"
   ]
  },
  {
   "cell_type": "code",
   "execution_count": 4,
   "metadata": {},
   "outputs": [],
   "source": [
    "# cheking divisiblity\n",
    "# a=int(input('enter num:'))\n",
    "# b=int(input('enter num:'))\n",
    "\n",
    "# if a%b ==0:\n",
    "#     print('yes')\n",
    "\n",
    "# else:\n",
    "#     print('not')\n",
    "\n"
   ]
  },
  {
   "cell_type": "code",
   "execution_count": 5,
   "metadata": {},
   "outputs": [],
   "source": [
    "# celcius to fernihit temprature conversion\n",
    "# a=int(input('enter temrature in c*:'))\n",
    "\n",
    "# F= a*(9/5)+32\n",
    "# print(F)"
   ]
  },
  {
   "cell_type": "code",
   "execution_count": 6,
   "metadata": {},
   "outputs": [],
   "source": [
    "# istriangle exists\n",
    "# a=int(input('enter num:'))\n",
    "# b=int(input('enter num:'))\n",
    "# c=int(input('enter num:'))\n",
    "\n",
    "# if a+b>c and b+c>a and a+c>b :\n",
    "#     print('Yes this is exist!')\n",
    "# else:\n",
    "#     print('not exist')"
   ]
  },
  {
   "cell_type": "code",
   "execution_count": 7,
   "metadata": {},
   "outputs": [],
   "source": [
    "# this is leap yr or not?\n",
    "# a=int(input('enter num:'))\n",
    "\n",
    "# if a%4==0:\n",
    "#     print('this is a leap year')\n",
    "# else:\n",
    "#     print('no this is not!')"
   ]
  },
  {
   "cell_type": "code",
   "execution_count": 8,
   "metadata": {},
   "outputs": [],
   "source": [
    "# is point belong to the circles origin or not?\n",
    "# import math\n",
    "# a=int(input('enter num:'))\n",
    "# b=int(input('enter num:'))\n",
    "\n",
    "# r=int(input('enradius:'))\n",
    "\n",
    "\n",
    "# g=math.sqrt(math.pow(a,2))+ math.pow(b,2)\n",
    "\n",
    "# if g<=r:\n",
    "#     print('belongs to the circle!')\n",
    "# else:\n",
    "#     print('do\"not belong to theorigin!')"
   ]
  },
  {
   "cell_type": "code",
   "execution_count": 9,
   "metadata": {},
   "outputs": [
    {
     "data": {
      "text/plain": [
       "'cycles'"
      ]
     },
     "execution_count": 9,
     "metadata": {},
     "output_type": "execute_result"
    }
   ],
   "source": [
    "\"\"\"cycles\"\"\"\n",
    "# guess the random number\n",
    "# from random import randint\n",
    "\n",
    "# q=randint(0,100)\n",
    "\n",
    "# while 1:\n",
    "#     a=int(input('enter num:'))\n",
    "\n",
    "#     if a<q:\n",
    "#         print('big')\n",
    "#     elif a>q:\n",
    "#         print('smaller')\n",
    "\n",
    "#     else:\n",
    "#          print('you got that number')\n",
    "         "
   ]
  },
  {
   "cell_type": "code",
   "execution_count": 10,
   "metadata": {},
   "outputs": [],
   "source": [
    "# ascii character print\n",
    "# for i in range(32,128):\n",
    "#     print(chr(i),end=' ')\n",
    "    \n",
    "#     if (i-1) %10==0:\n",
    "#         print()\n",
    "        \n",
    "# print()"
   ]
  },
  {
   "cell_type": "code",
   "execution_count": null,
   "metadata": {},
   "outputs": [],
   "source": [
    "# To print whole Alphabet\n",
    "# first=input('the firs')\n",
    "# last=input('the last')\n",
    "\n",
    "# while first<=last:\n",
    "#     print(first,end=\" \")\n",
    "#     first=chr(ord(first)+1)\n",
    "# print()"
   ]
  },
  {
   "cell_type": "code",
   "execution_count": null,
   "metadata": {},
   "outputs": [],
   "source": [
    "# convert decimal to any number sysytem\n",
    "# num=int(input())\n",
    "# base=int(input())\n",
    "\n",
    "# if not (2 <= base <=9):\n",
    "#     quit()\n",
    "    \n",
    "# newnum=' '\n",
    "\n",
    "# while num>0:\n",
    "#     newnum= str(num%base)+ newnum\n",
    "    \n",
    "#     num //= base\n",
    "    \n",
    "# print(newnum)"
   ]
  },
  {
   "cell_type": "code",
   "execution_count": 2,
   "metadata": {},
   "outputs": [
    {
     "name": "stdout",
     "output_type": "stream",
     "text": [
      "1\n",
      "1\n"
     ]
    }
   ],
   "source": [
    "# count no of integer\n",
    "\n",
    "# n=int(input())\n",
    "# n=abs(n)\n",
    "\n",
    "# count=1\n",
    "# n//= 10\n",
    "\n",
    "# while n>0:\n",
    "#     n//=10\n",
    "#     count +=1\n",
    "    \n",
    "# print(count)"
   ]
  },
  {
   "cell_type": "code",
   "execution_count": 13,
   "metadata": {},
   "outputs": [
    {
     "name": "stdout",
     "output_type": "stream",
     "text": [
      "8\n",
      "1 -0.5 0.25 -0.125 0.0625 -0.03125 0.015625 -0.0078125 \n"
     ]
    }
   ],
   "source": [
    "# n item os series\n",
    "# n=int(input())\n",
    "# # n=(input())\n",
    "\n",
    "# i=1\n",
    "\n",
    "# while n>0:\n",
    "#     print(i,end=' ')\n",
    "#     i = i/-2\n",
    "#     n -=1\n",
    "    \n",
    "# print()"
   ]
  },
  {
   "cell_type": "code",
   "execution_count": 18,
   "metadata": {},
   "outputs": [
    {
     "name": "stdout",
     "output_type": "stream",
     "text": [
      "9999999\n",
      "even:7\n",
      "odd: 0\n"
     ]
    }
   ],
   "source": [
    "# conut even and odd number in input\n",
    "# n=int(input())\n",
    "\n",
    "# even=0\n",
    "# odd=0\n",
    "\n",
    "# while n>0:\n",
    "#     if n%2==1:\n",
    "#         even +=1\n",
    "#     else:\n",
    "#         odd+=1\n",
    "#     n=n//10\n",
    "    \n",
    "# print('even:%d'% even)\n",
    "# print('odd: %d'% odd)"
   ]
  },
  {
   "cell_type": "code",
   "execution_count": 21,
   "metadata": {},
   "outputs": [
    {
     "name": "stdout",
     "output_type": "stream",
     "text": [
      "5\n",
      "120\n"
     ]
    }
   ],
   "source": [
    "# Facrotila\n",
    "# n=int(input())\n",
    "\n",
    "# fac=1\n",
    "# while n>0:\n",
    "#     fac *=n\n",
    "#     n -=1\n",
    "# print(fac)"
   ]
  },
  {
   "cell_type": "code",
   "execution_count": 26,
   "metadata": {},
   "outputs": [
    {
     "name": "stdout",
     "output_type": "stream",
     "text": [
      "3\n",
      "2 \n"
     ]
    }
   ],
   "source": [
    "# Fibonacchi\n",
    "# n=int(input())\n",
    "\n",
    "# f1=f2=1\n",
    "\n",
    "# i=2\n",
    "# while i<n:\n",
    "#     f1,f2=f2,f1+f2\n",
    "#     print(f2, end=' ')\n",
    "#     i +=1\n",
    "# print()    "
   ]
  },
  {
   "cell_type": "code",
   "execution_count": 27,
   "metadata": {},
   "outputs": [
    {
     "name": "stdout",
     "output_type": "stream",
     "text": [
      "5\n",
      "55\n",
      "5\n"
     ]
    }
   ],
   "source": [
    "# Great common divider\n",
    "# n=int(input())\n",
    "# n2=int(input())\n",
    "\n",
    "# while n!=0 and n2!=0:\n",
    "#     if n>n2:\n",
    "#         n %=n2\n",
    "#     else:\n",
    "#         n2 %=n\n",
    "        \n",
    "# gcd = n+n2\n",
    "# print(gcd)"
   ]
  },
  {
   "cell_type": "code",
   "execution_count": 29,
   "metadata": {},
   "outputs": [
    {
     "name": "stdout",
     "output_type": "stream",
     "text": [
      "456\n",
      "reverse 654\n"
     ]
    }
   ],
   "source": [
    "# reverse the numbers\n",
    "# n=int(input())\n",
    "# n2=0\n",
    "\n",
    "# while n>0:\n",
    "#     d= n %10\n",
    "#     n= n // 10\n",
    "#     n2=n2*10\n",
    "#     n2=n2 +d\n",
    "    \n",
    "# print('reverse',n2)"
   ]
  },
  {
   "cell_type": "code",
   "execution_count": 40,
   "metadata": {},
   "outputs": [
    {
     "name": "stdout",
     "output_type": "stream",
     "text": [
      "8750\n",
      "20\n"
     ]
    }
   ],
   "source": [
    "# sum of numbers\n",
    "# from random import random\n",
    "# n=round(random()*9222)\n",
    "# print(n)\n",
    "# s=str(n)\n",
    "\n",
    "# a=int(s[0])\n",
    "# b=int(s[1])\n",
    "# c=int(s[2])\n",
    "# print(a+b+c)"
   ]
  },
  {
   "cell_type": "code",
   "execution_count": 42,
   "metadata": {},
   "outputs": [
    {
     "name": "stdout",
     "output_type": "stream",
     "text": [
      "tree,box,wall,clock\n",
      "box\n",
      "fox\n",
      "\n",
      "tree,fox,wall,clock\n"
     ]
    }
   ],
   "source": [
    "# replace things in string\n",
    "# t=\"tree,box,wall,clock\"\n",
    "\n",
    "# print(t)\n",
    "# old=input()\n",
    "# new=input()\n",
    "# lenold=len(old)\n",
    "\n",
    "# i=t.find(old)\n",
    "\n",
    "# while i>0:\n",
    "#     before= t[:i]\n",
    "#     after =t[ i+ lenold:]\n",
    "#     t= before + new +after\n",
    "#     i= t.find(old)\n",
    "    \n",
    "# print()\n",
    "# print(t)"
   ]
  },
  {
   "cell_type": "code",
   "execution_count": null,
   "metadata": {},
   "outputs": [
    {
     "name": "stdout",
     "output_type": "stream",
     "text": [
      "johan wick 23\n"
     ]
    }
   ],
   "source": []
  },
  {
   "cell_type": "code",
   "execution_count": null,
   "metadata": {},
   "outputs": [],
   "source": []
  }
 ],
 "metadata": {
  "kernelspec": {
   "display_name": "Python 3",
   "language": "python",
   "name": "python3"
  },
  "language_info": {
   "codemirror_mode": {
    "name": "ipython",
    "version": 3
   },
   "file_extension": ".py",
   "mimetype": "text/x-python",
   "name": "python",
   "nbconvert_exporter": "python",
   "pygments_lexer": "ipython3",
   "version": "3.7.6"
  }
 },
 "nbformat": 4,
 "nbformat_minor": 4
}
