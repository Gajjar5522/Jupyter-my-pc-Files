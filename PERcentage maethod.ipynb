{
 "cells": [
  {
   "cell_type": "code",
   "execution_count": 4,
   "metadata": {},
   "outputs": [
    {
     "name": "stdout",
     "output_type": "stream",
     "text": [
      "1050.0\n",
      "1102.5\n",
      "1157.625\n",
      "1215.50625\n",
      "1276.2815624999998\n",
      "1340.0956406249998\n",
      "1407.1004226562497\n",
      "1477.4554437890622\n",
      "1551.3282159785153\n",
      "1628.894626777441\n",
      "1710.3393581163132\n",
      "1795.8563260221288\n",
      "1885.649142323235\n",
      "1979.931599439397\n",
      "2078.9281794113667\n",
      "2182.874588381935\n",
      "2292.018317801032\n",
      "2406.6192336910835\n",
      "2526.9501953756376\n",
      "2653.2977051444195\n"
     ]
    }
   ],
   "source": [
    "i=1\n",
    "m=1000\n",
    "d=5\n",
    "while i<21:\n",
    "    a=(m * d) / 100.0\n",
    "    c=a+m\n",
    "    print(c)\n",
    "    i+=1\n",
    "    m=c\n",
    "#         continue\n",
    "    \n",
    " "
   ]
  },
  {
   "cell_type": "code",
   "execution_count": null,
   "metadata": {},
   "outputs": [],
   "source": [
    "print('njskanjd')"
   ]
  },
  {
   "cell_type": "code",
   "execution_count": null,
   "metadata": {},
   "outputs": [],
   "source": []
  }
 ],
 "metadata": {
  "kernelspec": {
   "display_name": "Python 3",
   "language": "python",
   "name": "python3"
  },
  "language_info": {
   "codemirror_mode": {
    "name": "ipython",
    "version": 3
   },
   "file_extension": ".py",
   "mimetype": "text/x-python",
   "name": "python",
   "nbconvert_exporter": "python",
   "pygments_lexer": "ipython3",
   "version": "3.7.7"
  }
 },
 "nbformat": 4,
 "nbformat_minor": 4
}
